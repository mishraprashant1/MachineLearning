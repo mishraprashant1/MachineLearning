{
  "nbformat": 4,
  "nbformat_minor": 0,
  "metadata": {
    "colab": {
      "name": "JantaHack E Commerce Solution.ipynb",
      "provenance": [],
      "authorship_tag": "ABX9TyPdxd5lV19dU/H9XnZu3URV",
      "include_colab_link": true
    },
    "kernelspec": {
      "name": "python3",
      "display_name": "Python 3"
    }
  },
  "cells": [
    {
      "cell_type": "markdown",
      "metadata": {
        "id": "view-in-github",
        "colab_type": "text"
      },
      "source": [
        "<a href=\"https://colab.research.google.com/github/mishraprashant1/MachineLearning/blob/master/JantaHack_E_Commerce_Solution.ipynb\" target=\"_parent\"><img src=\"https://colab.research.google.com/assets/colab-badge.svg\" alt=\"Open In Colab\"/></a>"
      ]
    },
    {
      "cell_type": "code",
      "metadata": {
        "id": "LeIi-h51jlvx",
        "colab_type": "code",
        "colab": {}
      },
      "source": [
        "import pandas as pd\n",
        "import numpy as np\n",
        "\n",
        "from sklearn.preprocessing import LabelEncoder\n",
        "from xgboost import XGBClassifier\n",
        "from sklearn.svm import SVC\n",
        "from sklearn.ensemble import RandomForestClassifier\n",
        "\n",
        "import lightgbm as lgb\n",
        "from sklearn.model_selection import GridSearchCV\n",
        "from sklearn.model_selection import train_test_split\n",
        "\n",
        "import warnings\n",
        "warnings.filterwarnings('ignore')"
      ],
      "execution_count": 133,
      "outputs": []
    },
    {
      "cell_type": "code",
      "metadata": {
        "id": "uBMA-GGhjrpc",
        "colab_type": "code",
        "colab": {}
      },
      "source": [
        "#from google.colab import files\n",
        "#file = files.upload()"
      ],
      "execution_count": 134,
      "outputs": []
    },
    {
      "cell_type": "code",
      "metadata": {
        "id": "L_i-ohT3j5yg",
        "colab_type": "code",
        "colab": {}
      },
      "source": [
        "train = pd.read_csv(\"train_8wry4cB.csv\")\n",
        "test = pd.read_csv(\"test_Yix80N0.csv\")"
      ],
      "execution_count": 135,
      "outputs": []
    },
    {
      "cell_type": "code",
      "metadata": {
        "id": "8g1w4VUofp73",
        "colab_type": "code",
        "colab": {}
      },
      "source": [
        "train = train.set_index(['session_id', 'startTime', 'endTime', 'gender']).stack().str.split(\";\",expand=True).stack().unstack(-2).reset_index(-1,drop=True).reset_index()"
      ],
      "execution_count": 136,
      "outputs": []
    },
    {
      "cell_type": "code",
      "metadata": {
        "id": "8ZlK5oghk8WJ",
        "colab_type": "code",
        "colab": {
          "base_uri": "https://localhost:8080/",
          "height": 402
        },
        "outputId": "e4824935-c64d-4616-80da-9ba5acfb5c23"
      },
      "source": [
        "train.head(train.shape[0]-1)"
      ],
      "execution_count": 137,
      "outputs": [
        {
          "output_type": "execute_result",
          "data": {
            "text/html": [
              "<div>\n",
              "<style scoped>\n",
              "    .dataframe tbody tr th:only-of-type {\n",
              "        vertical-align: middle;\n",
              "    }\n",
              "\n",
              "    .dataframe tbody tr th {\n",
              "        vertical-align: top;\n",
              "    }\n",
              "\n",
              "    .dataframe thead th {\n",
              "        text-align: right;\n",
              "    }\n",
              "</style>\n",
              "<table border=\"1\" class=\"dataframe\">\n",
              "  <thead>\n",
              "    <tr style=\"text-align: right;\">\n",
              "      <th></th>\n",
              "      <th>session_id</th>\n",
              "      <th>startTime</th>\n",
              "      <th>endTime</th>\n",
              "      <th>gender</th>\n",
              "      <th>ProductList</th>\n",
              "    </tr>\n",
              "  </thead>\n",
              "  <tbody>\n",
              "    <tr>\n",
              "      <th>0</th>\n",
              "      <td>u10001</td>\n",
              "      <td>14/11/14 0:02</td>\n",
              "      <td>14/11/14 0:02</td>\n",
              "      <td>female</td>\n",
              "      <td>A00001/B00001/C00001/D00001/</td>\n",
              "    </tr>\n",
              "    <tr>\n",
              "      <th>1</th>\n",
              "      <td>u10002</td>\n",
              "      <td>12/12/14 14:12</td>\n",
              "      <td>12/12/14 14:12</td>\n",
              "      <td>female</td>\n",
              "      <td>A00002/B00002/C00002/D24897/</td>\n",
              "    </tr>\n",
              "    <tr>\n",
              "      <th>2</th>\n",
              "      <td>u10003</td>\n",
              "      <td>14/11/14 0:02</td>\n",
              "      <td>14/11/14 0:16</td>\n",
              "      <td>female</td>\n",
              "      <td>A00002/B00002/C00002/D00002/</td>\n",
              "    </tr>\n",
              "    <tr>\n",
              "      <th>3</th>\n",
              "      <td>u10003</td>\n",
              "      <td>14/11/14 0:02</td>\n",
              "      <td>14/11/14 0:16</td>\n",
              "      <td>female</td>\n",
              "      <td>A00002/B00002/C00003/D00003/</td>\n",
              "    </tr>\n",
              "    <tr>\n",
              "      <th>4</th>\n",
              "      <td>u10003</td>\n",
              "      <td>14/11/14 0:02</td>\n",
              "      <td>14/11/14 0:16</td>\n",
              "      <td>female</td>\n",
              "      <td>A00002/B00002/C00007/D00007/</td>\n",
              "    </tr>\n",
              "    <tr>\n",
              "      <th>...</th>\n",
              "      <td>...</td>\n",
              "      <td>...</td>\n",
              "      <td>...</td>\n",
              "      <td>...</td>\n",
              "      <td>...</td>\n",
              "    </tr>\n",
              "    <tr>\n",
              "      <th>23245</th>\n",
              "      <td>u24996</td>\n",
              "      <td>22/12/14 22:31</td>\n",
              "      <td>22/12/14 22:35</td>\n",
              "      <td>female</td>\n",
              "      <td>A00002/B00001/C00010/D36037/</td>\n",
              "    </tr>\n",
              "    <tr>\n",
              "      <th>23246</th>\n",
              "      <td>u24997</td>\n",
              "      <td>22/12/14 22:52</td>\n",
              "      <td>22/12/14 22:53</td>\n",
              "      <td>female</td>\n",
              "      <td>A00002/B00002/C00002/D15648/</td>\n",
              "    </tr>\n",
              "    <tr>\n",
              "      <th>23247</th>\n",
              "      <td>u24997</td>\n",
              "      <td>22/12/14 22:52</td>\n",
              "      <td>22/12/14 22:53</td>\n",
              "      <td>female</td>\n",
              "      <td>A00002/B00002/C00007/D01372/</td>\n",
              "    </tr>\n",
              "    <tr>\n",
              "      <th>23248</th>\n",
              "      <td>u24997</td>\n",
              "      <td>22/12/14 22:52</td>\n",
              "      <td>22/12/14 22:53</td>\n",
              "      <td>female</td>\n",
              "      <td>A00002/B00002/C00007/D36051/</td>\n",
              "    </tr>\n",
              "    <tr>\n",
              "      <th>23249</th>\n",
              "      <td>u24997</td>\n",
              "      <td>22/12/14 22:52</td>\n",
              "      <td>22/12/14 22:53</td>\n",
              "      <td>female</td>\n",
              "      <td>A00002/B00002/C00007/D36052/</td>\n",
              "    </tr>\n",
              "  </tbody>\n",
              "</table>\n",
              "<p>23250 rows × 5 columns</p>\n",
              "</div>"
            ],
            "text/plain": [
              "      session_id       startTime  ...  gender                   ProductList\n",
              "0         u10001   14/11/14 0:02  ...  female  A00001/B00001/C00001/D00001/\n",
              "1         u10002  12/12/14 14:12  ...  female  A00002/B00002/C00002/D24897/\n",
              "2         u10003   14/11/14 0:02  ...  female  A00002/B00002/C00002/D00002/\n",
              "3         u10003   14/11/14 0:02  ...  female  A00002/B00002/C00003/D00003/\n",
              "4         u10003   14/11/14 0:02  ...  female  A00002/B00002/C00007/D00007/\n",
              "...          ...             ...  ...     ...                           ...\n",
              "23245     u24996  22/12/14 22:31  ...  female  A00002/B00001/C00010/D36037/\n",
              "23246     u24997  22/12/14 22:52  ...  female  A00002/B00002/C00002/D15648/\n",
              "23247     u24997  22/12/14 22:52  ...  female  A00002/B00002/C00007/D01372/\n",
              "23248     u24997  22/12/14 22:52  ...  female  A00002/B00002/C00007/D36051/\n",
              "23249     u24997  22/12/14 22:52  ...  female  A00002/B00002/C00007/D36052/\n",
              "\n",
              "[23250 rows x 5 columns]"
            ]
          },
          "metadata": {
            "tags": []
          },
          "execution_count": 137
        }
      ]
    },
    {
      "cell_type": "code",
      "metadata": {
        "id": "jaXdctc8kRpH",
        "colab_type": "code",
        "colab": {}
      },
      "source": [
        "train[['category', 'sub category', 'sub-sub category', 'product', '/']] = (pd.DataFrame(train['ProductList'].str.split('/').values.tolist()))"
      ],
      "execution_count": 138,
      "outputs": []
    },
    {
      "cell_type": "code",
      "metadata": {
        "id": "bjUr6LiDlQgO",
        "colab_type": "code",
        "colab": {
          "base_uri": "https://localhost:8080/",
          "height": 229
        },
        "outputId": "71f666f0-1994-4496-9b5a-63d9361bd11d"
      },
      "source": [
        "train.head()"
      ],
      "execution_count": 139,
      "outputs": [
        {
          "output_type": "execute_result",
          "data": {
            "text/html": [
              "<div>\n",
              "<style scoped>\n",
              "    .dataframe tbody tr th:only-of-type {\n",
              "        vertical-align: middle;\n",
              "    }\n",
              "\n",
              "    .dataframe tbody tr th {\n",
              "        vertical-align: top;\n",
              "    }\n",
              "\n",
              "    .dataframe thead th {\n",
              "        text-align: right;\n",
              "    }\n",
              "</style>\n",
              "<table border=\"1\" class=\"dataframe\">\n",
              "  <thead>\n",
              "    <tr style=\"text-align: right;\">\n",
              "      <th></th>\n",
              "      <th>session_id</th>\n",
              "      <th>startTime</th>\n",
              "      <th>endTime</th>\n",
              "      <th>gender</th>\n",
              "      <th>ProductList</th>\n",
              "      <th>category</th>\n",
              "      <th>sub category</th>\n",
              "      <th>sub-sub category</th>\n",
              "      <th>product</th>\n",
              "      <th>/</th>\n",
              "    </tr>\n",
              "  </thead>\n",
              "  <tbody>\n",
              "    <tr>\n",
              "      <th>0</th>\n",
              "      <td>u10001</td>\n",
              "      <td>14/11/14 0:02</td>\n",
              "      <td>14/11/14 0:02</td>\n",
              "      <td>female</td>\n",
              "      <td>A00001/B00001/C00001/D00001/</td>\n",
              "      <td>A00001</td>\n",
              "      <td>B00001</td>\n",
              "      <td>C00001</td>\n",
              "      <td>D00001</td>\n",
              "      <td></td>\n",
              "    </tr>\n",
              "    <tr>\n",
              "      <th>1</th>\n",
              "      <td>u10002</td>\n",
              "      <td>12/12/14 14:12</td>\n",
              "      <td>12/12/14 14:12</td>\n",
              "      <td>female</td>\n",
              "      <td>A00002/B00002/C00002/D24897/</td>\n",
              "      <td>A00002</td>\n",
              "      <td>B00002</td>\n",
              "      <td>C00002</td>\n",
              "      <td>D24897</td>\n",
              "      <td></td>\n",
              "    </tr>\n",
              "    <tr>\n",
              "      <th>2</th>\n",
              "      <td>u10003</td>\n",
              "      <td>14/11/14 0:02</td>\n",
              "      <td>14/11/14 0:16</td>\n",
              "      <td>female</td>\n",
              "      <td>A00002/B00002/C00002/D00002/</td>\n",
              "      <td>A00002</td>\n",
              "      <td>B00002</td>\n",
              "      <td>C00002</td>\n",
              "      <td>D00002</td>\n",
              "      <td></td>\n",
              "    </tr>\n",
              "    <tr>\n",
              "      <th>3</th>\n",
              "      <td>u10003</td>\n",
              "      <td>14/11/14 0:02</td>\n",
              "      <td>14/11/14 0:16</td>\n",
              "      <td>female</td>\n",
              "      <td>A00002/B00002/C00003/D00003/</td>\n",
              "      <td>A00002</td>\n",
              "      <td>B00002</td>\n",
              "      <td>C00003</td>\n",
              "      <td>D00003</td>\n",
              "      <td></td>\n",
              "    </tr>\n",
              "    <tr>\n",
              "      <th>4</th>\n",
              "      <td>u10003</td>\n",
              "      <td>14/11/14 0:02</td>\n",
              "      <td>14/11/14 0:16</td>\n",
              "      <td>female</td>\n",
              "      <td>A00002/B00002/C00007/D00007/</td>\n",
              "      <td>A00002</td>\n",
              "      <td>B00002</td>\n",
              "      <td>C00007</td>\n",
              "      <td>D00007</td>\n",
              "      <td></td>\n",
              "    </tr>\n",
              "  </tbody>\n",
              "</table>\n",
              "</div>"
            ],
            "text/plain": [
              "  session_id       startTime         endTime  ... sub-sub category product /\n",
              "0     u10001   14/11/14 0:02   14/11/14 0:02  ...           C00001  D00001  \n",
              "1     u10002  12/12/14 14:12  12/12/14 14:12  ...           C00002  D24897  \n",
              "2     u10003   14/11/14 0:02   14/11/14 0:16  ...           C00002  D00002  \n",
              "3     u10003   14/11/14 0:02   14/11/14 0:16  ...           C00003  D00003  \n",
              "4     u10003   14/11/14 0:02   14/11/14 0:16  ...           C00007  D00007  \n",
              "\n",
              "[5 rows x 10 columns]"
            ]
          },
          "metadata": {
            "tags": []
          },
          "execution_count": 139
        }
      ]
    },
    {
      "cell_type": "code",
      "metadata": {
        "id": "Hklz5FtFmDc0",
        "colab_type": "code",
        "colab": {
          "base_uri": "https://localhost:8080/",
          "height": 195
        },
        "outputId": "e4b9f064-7c20-4cc0-bf99-eec7e6d38090"
      },
      "source": [
        "train_v1=train\n",
        "train_v1['SecsTimeDiff'] = np.abs(pd.to_datetime(train_v1['endTime'])-pd.to_datetime(train_v1['startTime'])).dt.total_seconds()\n",
        "train_v1['MinsTimeDiff'] = np.abs(pd.to_datetime(train_v1['endTime'])-pd.to_datetime(train_v1['startTime'])).dt.total_seconds() / 60\n",
        "train_v1.drop(['startTime', 'endTime', 'ProductList', '/', 'SecsTimeDiff'], axis=1, inplace=True)\n",
        "train_v1 = train_v1[['session_id', 'category', 'sub category', 'sub-sub category', 'product', 'MinsTimeDiff', 'gender']]\n",
        "le = LabelEncoder()\n",
        "train_v1.gender = le.fit_transform(train_v1.gender)\n",
        "train_v1.replace('([A-Za-z]+)', '', regex=True, inplace=True)\n",
        "train_v1 = train_v1.apply(pd.to_numeric)\n",
        "train_v1 = train_v1.sample(frac=1).reset_index(drop=True)\n",
        "train_v1.head()"
      ],
      "execution_count": 140,
      "outputs": [
        {
          "output_type": "execute_result",
          "data": {
            "text/html": [
              "<div>\n",
              "<style scoped>\n",
              "    .dataframe tbody tr th:only-of-type {\n",
              "        vertical-align: middle;\n",
              "    }\n",
              "\n",
              "    .dataframe tbody tr th {\n",
              "        vertical-align: top;\n",
              "    }\n",
              "\n",
              "    .dataframe thead th {\n",
              "        text-align: right;\n",
              "    }\n",
              "</style>\n",
              "<table border=\"1\" class=\"dataframe\">\n",
              "  <thead>\n",
              "    <tr style=\"text-align: right;\">\n",
              "      <th></th>\n",
              "      <th>session_id</th>\n",
              "      <th>category</th>\n",
              "      <th>sub category</th>\n",
              "      <th>sub-sub category</th>\n",
              "      <th>product</th>\n",
              "      <th>MinsTimeDiff</th>\n",
              "      <th>gender</th>\n",
              "    </tr>\n",
              "  </thead>\n",
              "  <tbody>\n",
              "    <tr>\n",
              "      <th>0</th>\n",
              "      <td>17595</td>\n",
              "      <td>2</td>\n",
              "      <td>2</td>\n",
              "      <td>7</td>\n",
              "      <td>8480</td>\n",
              "      <td>0.0</td>\n",
              "      <td>0</td>\n",
              "    </tr>\n",
              "    <tr>\n",
              "      <th>1</th>\n",
              "      <td>23981</td>\n",
              "      <td>1</td>\n",
              "      <td>1</td>\n",
              "      <td>182</td>\n",
              "      <td>25978</td>\n",
              "      <td>15.0</td>\n",
              "      <td>1</td>\n",
              "    </tr>\n",
              "    <tr>\n",
              "      <th>2</th>\n",
              "      <td>21876</td>\n",
              "      <td>2</td>\n",
              "      <td>2</td>\n",
              "      <td>7</td>\n",
              "      <td>20210</td>\n",
              "      <td>7.0</td>\n",
              "      <td>0</td>\n",
              "    </tr>\n",
              "    <tr>\n",
              "      <th>3</th>\n",
              "      <td>21939</td>\n",
              "      <td>1</td>\n",
              "      <td>31</td>\n",
              "      <td>91</td>\n",
              "      <td>29634</td>\n",
              "      <td>2.0</td>\n",
              "      <td>1</td>\n",
              "    </tr>\n",
              "    <tr>\n",
              "      <th>4</th>\n",
              "      <td>17358</td>\n",
              "      <td>2</td>\n",
              "      <td>3</td>\n",
              "      <td>5</td>\n",
              "      <td>24750</td>\n",
              "      <td>17.0</td>\n",
              "      <td>0</td>\n",
              "    </tr>\n",
              "  </tbody>\n",
              "</table>\n",
              "</div>"
            ],
            "text/plain": [
              "   session_id  category  sub category  ...  product  MinsTimeDiff  gender\n",
              "0       17595         2             2  ...     8480           0.0       0\n",
              "1       23981         1             1  ...    25978          15.0       1\n",
              "2       21876         2             2  ...    20210           7.0       0\n",
              "3       21939         1            31  ...    29634           2.0       1\n",
              "4       17358         2             3  ...    24750          17.0       0\n",
              "\n",
              "[5 rows x 7 columns]"
            ]
          },
          "metadata": {
            "tags": []
          },
          "execution_count": 140
        }
      ]
    },
    {
      "cell_type": "code",
      "metadata": {
        "id": "HdU46lxM23wH",
        "colab_type": "code",
        "colab": {}
      },
      "source": [
        "Y = train_v1['gender']\n",
        "X = train_v1.drop('gender',axis=1)\n",
        "#X[\"session_id\"].to_numeric()\n",
        "#X = X.to_numeric()\n",
        "#Y = Y.to_numeric()\n",
        "#pd.to_numeric(X[\"session_id\"])"
      ],
      "execution_count": 147,
      "outputs": []
    },
    {
      "cell_type": "code",
      "metadata": {
        "id": "1uvrrRlz3VMo",
        "colab_type": "code",
        "colab": {}
      },
      "source": [
        "x_train, x_test, y_train, y_test = train_test_split(X,Y,test_size=0.2)"
      ],
      "execution_count": 148,
      "outputs": []
    },
    {
      "cell_type": "code",
      "metadata": {
        "id": "c5RlME1BqIxU",
        "colab_type": "code",
        "colab": {}
      },
      "source": [
        "param_grid = {\n",
        "    'num_leaves': [25,30,35,40,50],\n",
        "    'max_depth': [6,8,10,12,14,20],\n",
        "    'learning_rate': [0.01,0.05,0.8,0.1,0.14],\n",
        "    'num_leaves': [50, 100, 200],\n",
        "    'max_bin': [150,200,225,250],\n",
        "}"
      ],
      "execution_count": 149,
      "outputs": []
    },
    {
      "cell_type": "code",
      "metadata": {
        "id": "ora05mWC1mMS",
        "colab_type": "code",
        "colab": {}
      },
      "source": [
        "model = lgb.LGBMClassifier()"
      ],
      "execution_count": 150,
      "outputs": []
    },
    {
      "cell_type": "code",
      "metadata": {
        "id": "0kKmqzmo1jeL",
        "colab_type": "code",
        "colab": {
          "base_uri": "https://localhost:8080/",
          "height": 168
        },
        "outputId": "e6b999d5-3bc7-4386-ea21-e15af2e138fb"
      },
      "source": [
        "gs = GridSearchCV(\n",
        "        estimator=model,\n",
        "        param_grid=param_grid, \n",
        "        n_jobs=-1, \n",
        "        scoring = 'accuracy', \n",
        "        cv=5,\n",
        "        verbose=2\n",
        "    )\n",
        "fitted_model = gs.fit(x_train, y_train)"
      ],
      "execution_count": 151,
      "outputs": [
        {
          "output_type": "stream",
          "text": [
            "Fitting 5 folds for each of 360 candidates, totalling 1800 fits\n"
          ],
          "name": "stdout"
        },
        {
          "output_type": "stream",
          "text": [
            "[Parallel(n_jobs=-1)]: Using backend LokyBackend with 2 concurrent workers.\n",
            "[Parallel(n_jobs=-1)]: Done  37 tasks      | elapsed:    8.2s\n",
            "[Parallel(n_jobs=-1)]: Done 158 tasks      | elapsed:   43.8s\n",
            "[Parallel(n_jobs=-1)]: Done 361 tasks      | elapsed:  1.8min\n",
            "[Parallel(n_jobs=-1)]: Done 644 tasks      | elapsed:  3.1min\n",
            "[Parallel(n_jobs=-1)]: Done 1009 tasks      | elapsed:  4.9min\n",
            "[Parallel(n_jobs=-1)]: Done 1454 tasks      | elapsed:  7.0min\n",
            "[Parallel(n_jobs=-1)]: Done 1800 out of 1800 | elapsed:  8.6min finished\n"
          ],
          "name": "stderr"
        }
      ]
    },
    {
      "cell_type": "code",
      "metadata": {
        "id": "r6stZJkS2yfE",
        "colab_type": "code",
        "colab": {
          "base_uri": "https://localhost:8080/",
          "height": 34
        },
        "outputId": "f757e639-fa63-40f9-9f5f-71a9d8d0ed43"
      },
      "source": [
        "fitted_model.score(x_test,y_test)"
      ],
      "execution_count": 154,
      "outputs": [
        {
          "output_type": "execute_result",
          "data": {
            "text/plain": [
              "0.9438830359062568"
            ]
          },
          "metadata": {
            "tags": []
          },
          "execution_count": 154
        }
      ]
    },
    {
      "cell_type": "code",
      "metadata": {
        "id": "MqLx_nUG9mT8",
        "colab_type": "code",
        "colab": {}
      },
      "source": [
        ""
      ],
      "execution_count": null,
      "outputs": []
    }
  ]
}